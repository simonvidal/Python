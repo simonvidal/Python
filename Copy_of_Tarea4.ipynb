{
  "nbformat": 4,
  "nbformat_minor": 0,
  "metadata": {
    "kernelspec": {
      "display_name": "Python 3",
      "language": "python",
      "name": "python3"
    },
    "language_info": {
      "codemirror_mode": {
        "name": "ipython",
        "version": 3
      },
      "file_extension": ".py",
      "mimetype": "text/x-python",
      "name": "python",
      "nbconvert_exporter": "python",
      "pygments_lexer": "ipython3",
      "version": "3.7.1"
    },
    "colab": {
      "name": "Copy of Tarea4.ipynb",
      "provenance": [],
      "include_colab_link": true
    }
  },
  "cells": [
    {
      "cell_type": "markdown",
      "metadata": {
        "id": "view-in-github",
        "colab_type": "text"
      },
      "source": [
        "<a href=\"https://colab.research.google.com/github/simonvidal/Python/blob/master/Copy_of_Tarea4.ipynb\" target=\"_parent\"><img src=\"https://colab.research.google.com/assets/colab-badge.svg\" alt=\"Open In Colab\"/></a>"
      ]
    },
    {
      "cell_type": "markdown",
      "metadata": {
        "id": "mu1A8tTi6Cpe",
        "colab_type": "text"
      },
      "source": [
        "# CC3001 Otoño 2020 Tarea 4\n",
        "# Generación de código\n",
        "\n",
        "Profesores: Sección 1 Patricio Poblete / Sección 2 Nelson Baloian\n",
        "\n",
        "Plazo: Lunes 8 de junio de 2020 a las 23:59"
      ]
    },
    {
      "cell_type": "markdown",
      "metadata": {
        "id": "oSl60LLq6Cpi",
        "colab_type": "text"
      },
      "source": [
        "El objetivo de esta tarea es aprender sobre la manipulación de árboles que representan fórmulas. Hay muchas cosas que uno puede hacer con estos árboles, y en esta tarea nos enfocaremos en particular en algo que los compiladores hacen: la **generación de código** para evaluar fórmulas.\n",
        "\n",
        "Específicamente, el problema es: dada una fórmula, generar una secuencia de instrucciones elementales que la evalúen. Por ejemplo, dada una fórmula como\n",
        "\n",
        "```\n",
        "(a+b)*(c-d)\n",
        "```\n",
        "\n",
        "se podría generar código como el siguiente:\n",
        "\n",
        "```\n",
        "t1=a+b\n",
        "t2=c-d\n",
        "t3=t1*t2\n",
        "```\n",
        "\n",
        "Las instrucciones elementales son siempre de la forma ``ti=x op y``, donde ``ti`` es una variable temporal, ``x`` e ``y`` pueden ser variables o números, y ``op`` es un operador. Uno va creando variables ``t1``, ``t2``, ... a medida que las necesita, y la última de ellas es la que almacena el valor final de la fórmula.\n",
        "\n",
        "Las fórmulas pueden ser arbitrariamente complicadas, como por ejemplo la fórmula\n",
        "\n",
        "$$\n",
        "(2-p\\,q)\\left( \\frac{1}{n}+\\frac{1}{p+q}\\right)\n",
        "$$\n",
        "\n",
        "la cual escribimos como\n",
        "\n",
        "```\n",
        "(2-p*q)*(1/n+1/(p+q))\n",
        "```\n",
        "\n",
        "y cuyo código generado podría ser,\n",
        "\n",
        "```\n",
        "t1=p*q\n",
        "t2=2-t1\n",
        "t3=1/n\n",
        "t4=p+q\n",
        "t5=1/t4\n",
        "t6=t3+t5\n",
        "t7=t2*t6\n",
        "```\n",
        "\n",
        "El objetivo de esta tarea es que usted implemente una función que, dado un árbol ya construído, lo recorra para generar una secuencia de instrucciones elementales que lo evalúe.\n",
        "\n",
        "A continuación usted encontrará clases ``Nodoi``, ``Nodoe`` y ``Arbol`` que implementan árboles que representan fórmulas. La clase ``Arbol`` viene con un constructor que recibe un string como parámetro, el cual contiene una fórmula, y este constructor se encarga de transformar la fórmula de string a árbol, de modo que usted no necesita preocuparse de eso. Para simplificar, la fórmula solo podrá contener variables de una sola letra, números de un solo dígito, y sin espacios. Los operadores permitidos son solo suma, resta, multiplicación y división. No hay operador menos unario.\n",
        "\n",
        "Usted tienen que implementar para la clase ``Arbol`` una función ``codigo`` que al ser invocado genere una secuencia de instrucciones elementales para evaluar la fórmula representada por ese árbol, y la retorne en forma de una lista (de Python)."
      ]
    },
    {
      "cell_type": "code",
      "metadata": {
        "id": "VqFvxmSm6Cpj",
        "colab_type": "code",
        "colab": {}
      },
      "source": [
        "class Nodoi:\n",
        "    def __init__(self, izq, info, der):\n",
        "        self.izq=izq\n",
        "        self.info=info\n",
        "        self.der=der\n",
        "    def postorden(self):\n",
        "        self.izq.postorden()   \n",
        "        self.der.postorden()\n",
        "        print(self.info, end=\" \")\n",
        "\n",
        "class Nodoe:ds dsadsa\n",
        "    def __init__(self, info):\n",
        "        self.info=info\n",
        "    def postorden(self):\n",
        "        print(self.info, end=\" \")\n",
        "\n",
        "class Arbol:\n",
        "    def __init__(self,formula):\n",
        "        global k\n",
        "        global s\n",
        "        s=formula+\";\" # agregamos una marca de fin de la entrada\n",
        "        k=0 # indica próximo caracter por procesar\n",
        "        # definimos funciones para analizar la fórmula\n",
        "        def expresion(): # retorna puntero a la raíz de un árbol que representa a la fórmula s\n",
        "            global k\n",
        "            global s\n",
        "            a=factor()\n",
        "            while s[k]==\"+\" or s[k]==\"-\":\n",
        "                op=s[k]\n",
        "                k+=1\n",
        "                b=factor()\n",
        "                a=Nodoi(a,op,b)\n",
        "            return a\n",
        "        def factor():\n",
        "            global k\n",
        "            global s\n",
        "            a=termino()\n",
        "            while s[k]==\"*\" or s[k]==\"/\":\n",
        "                op=s[k]\n",
        "                k+=1\n",
        "                b=factor()\n",
        "                a=Nodoi(a,op,b)\n",
        "            return a\n",
        "        def termino(): # posible constante, variable o formula parentizada\n",
        "            global k\n",
        "            global s\n",
        "            if s[k].isalpha() or s[k].isdigit():\n",
        "                a=Nodoe(s[k])\n",
        "                k+=1\n",
        "                return a\n",
        "            if s[k]==\"(\": # fórmula parentizada\n",
        "                k+=1\n",
        "                a=expresion()\n",
        "                if s[k]!=\")\":\n",
        "                    print(\"Error: Falta cierra paréntesis: \"+formula[k:])\n",
        "                    assert False\n",
        "                k+=1\n",
        "                return a\n",
        "            print(\"Error: Falta variable, número o abre paréntesis: \"+formula[k:])\n",
        "            assert False\n",
        "              \n",
        "        a=expresion()\n",
        "        if s[k]!=\";\":\n",
        "            print(\"Error: Basura al final de la fórmula: \"+formula[k:])\n",
        "            assert False                \n",
        "        self.raiz=a\n",
        "            \n",
        "    def postorden(self):\n",
        "        print(\"Postorden:\", end=\" \")\n",
        "        self.raiz.postorden()\n",
        "        print()\n",
        "    \n",
        "    def codigo(self):\n",
        "        # Esta es la función que tienen que escribir ustedes\n",
        "        # Por mientras, retorna una lista trivial\n",
        "        return [\"Aquí\",\"va\",\"el\",\"código\",\"generado\"]"
      ],
      "execution_count": 0,
      "outputs": []
    },
    {
      "cell_type": "markdown",
      "metadata": {
        "id": "B2XgMZdL6Cpn",
        "colab_type": "text"
      },
      "source": [
        "A continuación probamos esta funcionalidad con varias fórmulas de ejemplo. Para ver si el árbol fue construido correctamente, lo recorremos en postorden para imprimirlo en notación polaca. **Importante**: La notación polaca no tiene nada que ver con lo que ustedes tienen que hacer, es solo una manera de poder imprimir el árbol generado para chequear que esté bien construido."
      ]
    },
    {
      "cell_type": "code",
      "metadata": {
        "id": "LLwMejpA6Cpo",
        "colab_type": "code",
        "outputId": "da393d6b-7462-4144-dec3-be3012521ab6",
        "colab": {
          "base_uri": "https://localhost:8080/",
          "height": 35
        }
      },
      "source": [
        "Arbol(\"a+b\").postorden()"
      ],
      "execution_count": 0,
      "outputs": [
        {
          "output_type": "stream",
          "text": [
            "Postorden: a b + \n"
          ],
          "name": "stdout"
        }
      ]
    },
    {
      "cell_type": "code",
      "metadata": {
        "id": "yDflUaBQ6Cps",
        "colab_type": "code",
        "outputId": "db5bc9c8-82da-4169-84df-b2926db85f98",
        "colab": {
          "base_uri": "https://localhost:8080/",
          "height": 35
        }
      },
      "source": [
        "Arbol(\"(a+b)*(c-d)\").postorden()"
      ],
      "execution_count": 0,
      "outputs": [
        {
          "output_type": "stream",
          "text": [
            "Postorden: a b + c d - * \n"
          ],
          "name": "stdout"
        }
      ]
    },
    {
      "cell_type": "code",
      "metadata": {
        "id": "vQ1HQ1d-6Cpv",
        "colab_type": "code",
        "outputId": "06645324-ee82-4191-ae3f-7112e1cc830b",
        "colab": {
          "base_uri": "https://localhost:8080/",
          "height": 35
        }
      },
      "source": [
        "Arbol(\"(2-p*q)*(1/n+1/(p+q))\").postorden()"
      ],
      "execution_count": 0,
      "outputs": [
        {
          "output_type": "stream",
          "text": [
            "Postorden: 2 p q * - 1 n / 1 p q + / + * \n"
          ],
          "name": "stdout"
        }
      ]
    },
    {
      "cell_type": "markdown",
      "metadata": {
        "id": "U9Irc7gA6Cpy",
        "colab_type": "text"
      },
      "source": [
        "## Resultados"
      ]
    },
    {
      "cell_type": "markdown",
      "metadata": {
        "id": "gMst1UPk6Cpy",
        "colab_type": "text"
      },
      "source": [
        "En esta sección probamos la generación de código que usted tiene que escribir. Mientras usted no sustituya la función ``codigo`` provisoria que viene en la definición de la clase, va a aparecer la lista que generamos ahí. Primero vamos a definir una función ``probar`` que genera el código a partir de una fórmula dada e imprime el resultado:"
      ]
    },
    {
      "cell_type": "code",
      "metadata": {
        "id": "_hihUwev6Cpz",
        "colab_type": "code",
        "colab": {}
      },
      "source": [
        "def probar(formula):\n",
        "    a=Arbol(formula)\n",
        "    for x in a.codigo():\n",
        "        print(x)"
      ],
      "execution_count": 0,
      "outputs": []
    },
    {
      "cell_type": "markdown",
      "metadata": {
        "id": "AbL_pw8s6Cp3",
        "colab_type": "text"
      },
      "source": [
        "A continuación probamos con varias fórmulas. Además de las fórmulas dadaas, usted tiene que agregar tres ejemplos adicionales."
      ]
    },
    {
      "cell_type": "code",
      "metadata": {
        "id": "952_ERId6Cp3",
        "colab_type": "code",
        "outputId": "e792aa49-0c5e-411e-8aee-25bb78a1efaf",
        "colab": {}
      },
      "source": [
        "probar(\"a+1\")"
      ],
      "execution_count": 0,
      "outputs": [
        {
          "output_type": "stream",
          "text": [
            "Aquí\n",
            "va\n",
            "el\n",
            "código\n",
            "generado\n"
          ],
          "name": "stdout"
        }
      ]
    },
    {
      "cell_type": "code",
      "metadata": {
        "id": "RTLwTQHA6Cp8",
        "colab_type": "code",
        "outputId": "e564bec9-8cf3-4113-9195-0f0b41085559",
        "colab": {}
      },
      "source": [
        "probar(\"(a+b)*(c-d)\")"
      ],
      "execution_count": 0,
      "outputs": [
        {
          "output_type": "stream",
          "text": [
            "Aquí\n",
            "va\n",
            "el\n",
            "código\n",
            "generado\n"
          ],
          "name": "stdout"
        }
      ]
    },
    {
      "cell_type": "code",
      "metadata": {
        "id": "TIPI8jIl6Cp_",
        "colab_type": "code",
        "outputId": "ade06fa0-6f80-469e-e135-3e89aaf57d7f",
        "colab": {}
      },
      "source": [
        "probar(\"(2-p*q)*(1/n+1/(p+q))\")"
      ],
      "execution_count": 0,
      "outputs": [
        {
          "output_type": "stream",
          "text": [
            "Aquí\n",
            "va\n",
            "el\n",
            "código\n",
            "generado\n"
          ],
          "name": "stdout"
        }
      ]
    },
    {
      "cell_type": "code",
      "metadata": {
        "id": "lW6crOsa6CqG",
        "colab_type": "code",
        "outputId": "b70ba1a1-ddc8-421d-989b-0a482b7e40f3",
        "colab": {}
      },
      "source": [
        "probar(\"((((a+b)+c)+d)+e)\")"
      ],
      "execution_count": 0,
      "outputs": [
        {
          "output_type": "stream",
          "text": [
            "Aquí\n",
            "va\n",
            "el\n",
            "código\n",
            "generado\n"
          ],
          "name": "stdout"
        }
      ]
    },
    {
      "cell_type": "code",
      "metadata": {
        "id": "j3J7bYUA6CqJ",
        "colab_type": "code",
        "outputId": "1eac775d-04f4-45e1-b1aa-dd4a7f6865e4",
        "colab": {}
      },
      "source": [
        "probar(\"(a+(b+(c+(d+e))))\")"
      ],
      "execution_count": 0,
      "outputs": [
        {
          "output_type": "stream",
          "text": [
            "Aquí\n",
            "va\n",
            "el\n",
            "código\n",
            "generado\n"
          ],
          "name": "stdout"
        }
      ]
    },
    {
      "cell_type": "code",
      "metadata": {
        "id": "1iJ9YfZa6CqP",
        "colab_type": "code",
        "outputId": "a9e0dd0c-b56a-43c8-d9f4-5e02ba13b3a2",
        "colab": {}
      },
      "source": [
        "probar(\"a\")"
      ],
      "execution_count": 0,
      "outputs": [
        {
          "output_type": "stream",
          "text": [
            "Aquí\n",
            "va\n",
            "el\n",
            "código\n",
            "generado\n"
          ],
          "name": "stdout"
        }
      ]
    },
    {
      "cell_type": "markdown",
      "metadata": {
        "id": "P1hiNRB86CqT",
        "colab_type": "text"
      },
      "source": [
        "## Discusión"
      ]
    },
    {
      "cell_type": "markdown",
      "metadata": {
        "id": "IdypC8Pa6CqT",
        "colab_type": "text"
      },
      "source": [
        "Suponga que hay escasez de variables temporales, así que se le ha pedido que trate de reciclarlas lo más posible, y solo crear nuevas variables ``ti`` cuando sea estrictamente necesario. Por ejemplo, para la fórmula\n",
        "\n",
        "```\n",
        "((a+b)*c)+((d-e)/f)\n",
        "```\n",
        "\n",
        "si generamos código como lo hemos hecho en los ejemplos anteriores (código de la izquierda), se usan 5 variables temporales, pero el código de la derecha muestra que se puede evaluar usando solo 2:\n",
        "\n",
        "```\n",
        "t1=a+b               t1=a+b\n",
        "t2=t1*c              t1=t1*c\n",
        "t3=d-e               t2=d-e\n",
        "t4=t3/f              t2=t2/f\n",
        "t5=t2+t4             t1=t1+t2\n",
        "```\n",
        "\n",
        "Discuta cómo se podría modificar su algoritmo para que (1) use menos variables temporales, y luego (2) para que use el mínimo posible de variables temporales.\n",
        "\n",
        "No es necesario que implemente nada, solo que discuta cómo se podría hacer."
      ]
    },
    {
      "cell_type": "code",
      "metadata": {
        "id": "f_4JytVL6CqU",
        "colab_type": "code",
        "colab": {}
      },
      "source": [
        ""
      ],
      "execution_count": 0,
      "outputs": []
    }
  ]
}